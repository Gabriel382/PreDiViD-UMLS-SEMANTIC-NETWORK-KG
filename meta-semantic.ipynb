{
 "cells": [
  {
   "cell_type": "markdown",
   "id": "f08fadcf-782f-4a8c-a989-6c93eb69bd5d",
   "metadata": {},
   "source": [
    "# UMLS\n",
    "\n",
    "This code aims to create a KG composed both by **UMLS's Semantic Network Types** and **UMLS Methatesaurus**"
   ]
  },
  {
   "cell_type": "markdown",
   "id": "73852952-d49e-446b-a4bc-34a92e258ff2",
   "metadata": {},
   "source": [
    "## Importing"
   ]
  },
  {
   "cell_type": "code",
   "execution_count": 1,
   "id": "7b0f4a64-a907-4ac6-bf32-f57237fa3da4",
   "metadata": {},
   "outputs": [],
   "source": [
    "from genericpath import exists\n",
    "import pymysql, csv\n",
    "from argparse import ArgumentParser\n",
    "import sys\n",
    "from tqdm import tqdm"
   ]
  },
  {
   "cell_type": "markdown",
   "id": "685406b8-1ca1-494a-88d6-8c469dc6e277",
   "metadata": {},
   "source": [
    "## Setting global variables"
   ]
  },
  {
   "cell_type": "code",
   "execution_count": 2,
   "id": "419a8dd6-c1ad-4310-932c-0f59cf970572",
   "metadata": {},
   "outputs": [],
   "source": [
    "host = 'localhost'\n",
    "user = 'root'\n",
    "password = 'adm'\n",
    "database = 'umls'"
   ]
  },
  {
   "cell_type": "markdown",
   "id": "6df6d57a-153d-4ac2-a09a-f8978a443c15",
   "metadata": {},
   "source": [
    "## Connecting to UMLS SQL Database"
   ]
  },
  {
   "cell_type": "code",
   "execution_count": 3,
   "id": "0ad1a7df-f27d-41eb-9bdc-b955974bdd71",
   "metadata": {},
   "outputs": [
    {
     "name": "stdout",
     "output_type": "stream",
     "text": [
      "Connect Database\n"
     ]
    }
   ],
   "source": [
    "print('Connect Database')\n",
    "conn = pymysql.connect(host= host, user= user,\n",
    "                        password= password, database= database)\n",
    "cursor= conn.cursor()"
   ]
  },
  {
   "cell_type": "markdown",
   "id": "18d5d787-64ab-40e9-8b5b-de44f11fefed",
   "metadata": {},
   "source": [
    "## Processing UMLS SN Types"
   ]
  },
  {
   "cell_type": "code",
   "execution_count": 4,
   "id": "49823efa-3d82-4b11-9e3a-e65102a513e1",
   "metadata": {},
   "outputs": [
    {
     "name": "stdout",
     "output_type": "stream",
     "text": [
      "Process UMLS Types\n"
     ]
    }
   ],
   "source": [
    "print('Process UMLS Types')\n",
    "exists_types = set()\n",
    "out= open('SRDEF.processed.csv', 'w', encoding= 'utf-8')\n",
    "writer= csv.writer(out)\n",
    "cols= ['STY:ID', 'id', ':LABEL',  'name', 'DEF', 'ABR']\n",
    "writer.writerow(cols)\n",
    "cursor.execute(\"select UI, STY_RL, DEF, ABR from umls.SRDEF where RT = 'STY';\")\n",
    "mrsty = cursor.fetchall()"
   ]
  },
  {
   "cell_type": "code",
   "execution_count": 5,
   "id": "6d2cd214-df54-48b3-81b9-fe3ca1b030e4",
   "metadata": {},
   "outputs": [
    {
     "name": "stdout",
     "output_type": "stream",
     "text": [
      "127 Semantic Types\n"
     ]
    }
   ],
   "source": [
    "for line in mrsty: \n",
    "    if line[0] in exists_types: \n",
    "        continue\n",
    "    writer.writerow([line[0],line[0], 'SemanticType', line[1],line[2],line[3]])\n",
    "    exists_types.add(line[0])\n",
    "print(f'{len(exists_types)} Semantic Types')"
   ]
  },
  {
   "cell_type": "markdown",
   "id": "fc99c632-3398-4a6d-aa48-be59cb1df31b",
   "metadata": {},
   "source": [
    "## Processing UMLS Concepts"
   ]
  },
  {
   "cell_type": "code",
   "execution_count": 6,
   "id": "4a9b8e37-4a90-4c78-a9c3-1f737834637e",
   "metadata": {},
   "outputs": [
    {
     "name": "stdout",
     "output_type": "stream",
     "text": [
      "Process Concepts\n",
      "3263433 concepts\n"
     ]
    }
   ],
   "source": [
    "print('Process Concepts')\n",
    "exists_concept= set()\n",
    "out= open('MRCONSO.processed.csv', 'w', encoding= 'utf-8')\n",
    "writer= csv.writer(out)\n",
    "cols= ['CUI:ID','id', ':LABEL',  'name']\n",
    "writer.writerow(cols)\n",
    "cursor.execute(\"select * from umls.MRCONSO;\")\n",
    "mrconso= cursor.fetchall()\n",
    "for line in mrconso: \n",
    "    if line[0] in exists_concept: \n",
    "        continue\n",
    "    if line[1] == 'ENG':\n",
    "        writer.writerow([line[0],line[0], 'Concept', line[-4]])\n",
    "        exists_concept.add(line[0])\n",
    "print(f'{len(exists_concept)} concepts')"
   ]
  },
  {
   "cell_type": "code",
   "execution_count": 36,
   "id": "f25e033c-f321-44a2-ab1f-466bd5e0d52f",
   "metadata": {},
   "outputs": [
    {
     "name": "stdout",
     "output_type": "stream",
     "text": [
      "3263433 concepts\n"
     ]
    }
   ],
   "source": [
    "exists_concept= set()\n",
    "cursor.execute(\"select * from umls.MRCONSO;\")\n",
    "mrconso= cursor.fetchall()\n",
    "for line in mrconso: \n",
    "    if line[0] in exists_concept: \n",
    "        continue\n",
    "    if line[1] == 'ENG':\n",
    "        exists_concept.add(line[0])\n",
    "print(f'{len(exists_concept)} concepts')"
   ]
  },
  {
   "cell_type": "markdown",
   "id": "f7a24600-fb48-4b91-be52-4bed3b38159e",
   "metadata": {},
   "source": [
    "## Processing UMLS Atoms"
   ]
  },
  {
   "cell_type": "code",
   "execution_count": 7,
   "id": "d0cc1471-2fd5-4581-90fa-aeaaa24833c9",
   "metadata": {},
   "outputs": [
    {
     "name": "stdout",
     "output_type": "stream",
     "text": [
      "Process Atoms\n"
     ]
    }
   ],
   "source": [
    "print('Process Atoms')\n",
    "out= open('MRAUI.processed.csv', 'w', encoding= 'utf-8')\n",
    "writer= csv.writer(out)\n",
    "cols= ['AUI:ID', 'id', ':LABEL', 'name', 'CUI']\n",
    "writer.writerow(cols)\n",
    "exists_atom= set()"
   ]
  },
  {
   "cell_type": "code",
   "execution_count": 8,
   "id": "6927a878-69fa-458a-9a78-64510c433dfb",
   "metadata": {},
   "outputs": [
    {
     "name": "stdout",
     "output_type": "stream",
     "text": [
      "9356538 atoms\n"
     ]
    }
   ],
   "source": [
    "with open('MRCONSO.RRF', mode= 'r', encoding='utf-8') as f : \n",
    "    for line in mrconso: \n",
    "        if line[7] in exists_atom: \n",
    "            continue\n",
    "        if line[1] == 'ENG':\n",
    "            writer.writerow([line[7],line[7], 'Atom', line[-4], line[0]])\n",
    "            exists_atom.add(line[7])\n",
    "out.close()\n",
    "print(f'{len(exists_atom)} atoms')"
   ]
  },
  {
   "cell_type": "markdown",
   "id": "00be1c2d-807d-4a3f-9ee9-bad449d2e503",
   "metadata": {},
   "source": [
    "## Processing UMLS Relations"
   ]
  },
  {
   "cell_type": "markdown",
   "id": "06ccd161-e8db-4df4-b141-c359733a0566",
   "metadata": {},
   "source": [
    "### SN Type to SN Type"
   ]
  },
  {
   "cell_type": "markdown",
   "id": "7de50402-c4e3-4a36-97ef-27852471e77c",
   "metadata": {},
   "source": [
    "#### SN Relations"
   ]
  },
  {
   "cell_type": "code",
   "execution_count": 26,
   "id": "338c1229-053f-4d5f-bfbf-913c7b86c958",
   "metadata": {},
   "outputs": [
    {
     "name": "stdout",
     "output_type": "stream",
     "text": [
      "Process UMLS Types\n"
     ]
    }
   ],
   "source": [
    "print('Process UMLS Types')\n",
    "exists_sn_relations = set()\n",
    "cursor.execute(\"select UI, STY_RL, ABR from umls.SRDEF where RT = 'RL';\")\n",
    "mrsrelation = cursor.fetchall()\n",
    "sn_relation_dict = dict()"
   ]
  },
  {
   "cell_type": "code",
   "execution_count": 27,
   "id": "dc67e646-95df-407c-b605-a1884580a1cc",
   "metadata": {},
   "outputs": [],
   "source": [
    "for line in mrsrelation: \n",
    "    if line[0] in exists_sn_relations: \n",
    "        continue\n",
    "    sn_relation_dict[line[0]] = (line[1], line[2])\n",
    "    exists_sn_relations.add(line[0])"
   ]
  },
  {
   "cell_type": "markdown",
   "id": "3f764db9-5b04-4cf0-8dbb-f38c515e92f6",
   "metadata": {},
   "source": [
    "#### SN Type to Type through relation"
   ]
  },
  {
   "cell_type": "code",
   "execution_count": 33,
   "id": "3bee993d-e7d6-4268-9374-97597a132e47",
   "metadata": {},
   "outputs": [
    {
     "name": "stdout",
     "output_type": "stream",
     "text": [
      "Process STY relationships\n"
     ]
    }
   ],
   "source": [
    "print('Process STY relationships')\n",
    "# exists_types\n",
    "cursor.execute(\"select * from umls.SRSTRE1;\")\n",
    "snrel = cursor.fetchall() "
   ]
  },
  {
   "cell_type": "code",
   "execution_count": 35,
   "id": "daae1a0b-41aa-4558-b385-6b179bb97692",
   "metadata": {},
   "outputs": [
    {
     "name": "stdout",
     "output_type": "stream",
     "text": [
      "6217 relationships\n"
     ]
    }
   ],
   "source": [
    "out= open('SRSTRE1.processed.csv', 'w', encoding= 'utf-8')\n",
    "writer= csv.writer(out)\n",
    "cols= [':START_ID', ':END_ID',':TYPE','RELA']\n",
    "writer.writerow(cols)\n",
    "count= 0\n",
    "\n",
    "for line in snrel:\n",
    "    start_node= line[0]\n",
    "    end_node= line[2]\n",
    "    if start_node in exists_types and end_node in exists_types:\n",
    "        rel = sn_relation_dict[line[1]]\n",
    "        writer.writerow([start_node, end_node, rel[1], rel[0]])\n",
    "    count += 1\n",
    "\n",
    "out.close()\n",
    "print(f\"{count} relationships\")"
   ]
  },
  {
   "cell_type": "markdown",
   "id": "51320b9c-95f2-427d-bd92-d825fb7dc6df",
   "metadata": {},
   "source": [
    "### Concept to SN Type"
   ]
  },
  {
   "cell_type": "code",
   "execution_count": 41,
   "id": "fd2a148d-2d2f-4399-95c8-fc462a99be22",
   "metadata": {},
   "outputs": [
    {
     "name": "stdout",
     "output_type": "stream",
     "text": [
      "Process SN to UMLS Concept relationships\n"
     ]
    }
   ],
   "source": [
    "print('Process SN to UMLS Concept relationships')\n",
    "cursor.execute(\"select CUI, TUI from umls.MRSTY;\")\n",
    "mrcontype = cursor.fetchall()"
   ]
  },
  {
   "cell_type": "code",
   "execution_count": 42,
   "id": "4bc0b581-0aa6-42a5-8d52-f33e58308543",
   "metadata": {},
   "outputs": [
    {
     "data": {
      "text/plain": [
       "25"
      ]
     },
     "execution_count": 42,
     "metadata": {},
     "output_type": "execute_result"
    }
   ],
   "source": [
    "out= open('MRSTY.processed.csv', 'w', encoding= 'utf-8')\n",
    "writer= csv.writer(out)\n",
    "cols= [':START_ID', ':END_ID',':TYPE']\n",
    "writer.writerow(cols)"
   ]
  },
  {
   "cell_type": "code",
   "execution_count": 43,
   "id": "680913e4-bf35-47e4-a630-913ef0378e78",
   "metadata": {},
   "outputs": [
    {
     "name": "stdout",
     "output_type": "stream",
     "text": [
      "3595722 relationships\n"
     ]
    }
   ],
   "source": [
    "count = 0\n",
    "for line in mrcontype:\n",
    "    start_node= line[0]\n",
    "    end_node= line[1]\n",
    "    if start_node in exists_concept and end_node in exists_types:\n",
    "        writer.writerow([start_node, end_node, 'STY'])\n",
    "    count += 1\n",
    "out.close()\n",
    "print(f\"{count} relationships\")"
   ]
  },
  {
   "cell_type": "markdown",
   "id": "cb3dddc6-1753-4c77-9e20-de4083f27e40",
   "metadata": {},
   "source": [
    "### Concept to Atom"
   ]
  },
  {
   "cell_type": "code",
   "execution_count": 9,
   "id": "e04cf31b-c422-45ee-9b3c-f90aa4daa1e5",
   "metadata": {},
   "outputs": [
    {
     "name": "stdout",
     "output_type": "stream",
     "text": [
      "Process relationships\n",
      "55685992 relationships\n"
     ]
    }
   ],
   "source": [
    "print('Process relationships')\n",
    "\n",
    "cui_aui = exists_atom | exists_concept\n",
    "cursor.execute(\"select * from umls.MRREL;\")\n",
    "mrrel= cursor.fetchall() \n",
    "\n",
    "out= open('MRREL.processed.csv', 'w', encoding= 'utf-8')\n",
    "writer= csv.writer(out)\n",
    "cols= [':START_ID', ':END_ID',':TYPE','RELA']\n",
    "writer.writerow(cols)\n",
    "count= 0\n",
    "with open('MRREL.RRF', mode= 'r', encoding= 'utf-8') as f: \n",
    "    for line in mrrel:\n",
    "        start_node= line[4]\n",
    "        end_node= line[0]\n",
    "        if line[6]== 'AUI': # style 2\n",
    "            start_node= line[5]\n",
    "        if line[2]== 'AUI': # syle 1\n",
    "            end_node= line[1]\n",
    "        if start_node in cui_aui and end_node in cui_aui: \n",
    "            writer.writerow([start_node, c, line[3], line[7]])\n",
    "        count += 1\n",
    "out.close()\n",
    "print(f\"{count} relationships\")"
   ]
  }
 ],
 "metadata": {
  "kernelspec": {
   "display_name": "Python 3 (ipykernel)",
   "language": "python",
   "name": "python3"
  },
  "language_info": {
   "codemirror_mode": {
    "name": "ipython",
    "version": 3
   },
   "file_extension": ".py",
   "mimetype": "text/x-python",
   "name": "python",
   "nbconvert_exporter": "python",
   "pygments_lexer": "ipython3",
   "version": "3.8.10"
  }
 },
 "nbformat": 4,
 "nbformat_minor": 5
}
