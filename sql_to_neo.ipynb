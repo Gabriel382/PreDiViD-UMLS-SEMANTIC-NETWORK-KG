{
 "cells": [
  {
   "cell_type": "code",
   "execution_count": 4,
   "id": "b4234448-5421-432b-aa3f-a8fc5ddf0e34",
   "metadata": {},
   "outputs": [],
   "source": [
    "from genericpath import exists\n",
    "import pymysql, csv\n",
    "from argparse import ArgumentParser\n",
    "import sys\n",
    "\n",
    "host = 'localhost'\n",
    "user = 'root'\n",
    "password = 'adm'\n",
    "database = 'umls'"
   ]
  },
  {
   "cell_type": "code",
   "execution_count": 5,
   "id": "0ad1a7df-f27d-41eb-9bdc-b955974bdd71",
   "metadata": {},
   "outputs": [
    {
     "name": "stdout",
     "output_type": "stream",
     "text": [
      "Connect Database\n"
     ]
    }
   ],
   "source": [
    "\n",
    "print('Connect Database')\n",
    "conn = pymysql.connect(host= host, user= user,\n",
    "                        password= password, database= database)\n",
    "cursor= conn.cursor()"
   ]
  },
  {
   "cell_type": "code",
   "execution_count": 6,
   "id": "4a9b8e37-4a90-4c78-a9c3-1f737834637e",
   "metadata": {},
   "outputs": [
    {
     "name": "stdout",
     "output_type": "stream",
     "text": [
      "Process Concepts\n",
      "3263433 concepts\n"
     ]
    }
   ],
   "source": [
    "print('Process Concepts')\n",
    "exists_concept= set()\n",
    "out= open('MRCONSO.processed.csv', 'w', encoding= 'utf-8')\n",
    "writer= csv.writer(out)\n",
    "cols= ['CUI:ID', ':LABEL',  'name']\n",
    "writer.writerow(cols)\n",
    "cursor.execute(\"select * from umls.MRCONSO;\")\n",
    "mrconso= cursor.fetchall()\n",
    "for line in mrconso: \n",
    "    if line[0] in exists_concept: \n",
    "        continue\n",
    "    if line[1] == 'ENG':\n",
    "        writer.writerow([line[0], 'Concept', line[-4]])\n",
    "        exists_concept.add(line[0])\n",
    "print(f'{len(exists_concept)} concepts')\n",
    "\n"
   ]
  },
  {
   "cell_type": "code",
   "execution_count": 7,
   "id": "d0cc1471-2fd5-4581-90fa-aeaaa24833c9",
   "metadata": {},
   "outputs": [
    {
     "name": "stdout",
     "output_type": "stream",
     "text": [
      "Process Atoms\n"
     ]
    }
   ],
   "source": [
    "print('Process Atoms')\n",
    "out= open('MRAUI.processed.csv', 'w', encoding= 'utf-8')\n",
    "writer= csv.writer(out)\n",
    "cols= ['AUI:ID', ':LABEL', 'name', 'CUI']\n",
    "writer.writerow(cols)\n",
    "exists_atom= set()"
   ]
  },
  {
   "cell_type": "code",
   "execution_count": 8,
   "id": "6927a878-69fa-458a-9a78-64510c433dfb",
   "metadata": {},
   "outputs": [
    {
     "name": "stdout",
     "output_type": "stream",
     "text": [
      "9356538 atoms\n"
     ]
    }
   ],
   "source": [
    "with open('MRCONSO.RRF', mode= 'r', encoding='utf-8') as f : \n",
    "    for line in mrconso: \n",
    "        if line[7] in exists_atom: \n",
    "            continue\n",
    "        if line[1] == 'ENG':\n",
    "            writer.writerow([line[7], 'Atom', line[-4], line[0]])\n",
    "            exists_atom.add(line[7])\n",
    "out.close()\n",
    "print(f'{len(exists_atom)} atoms')"
   ]
  },
  {
   "cell_type": "code",
   "execution_count": 9,
   "id": "e04cf31b-c422-45ee-9b3c-f90aa4daa1e5",
   "metadata": {},
   "outputs": [
    {
     "name": "stdout",
     "output_type": "stream",
     "text": [
      "Process relationships\n",
      "55685992 relationships\n"
     ]
    }
   ],
   "source": [
    "print('Process relationships')\n",
    "\n",
    "cui_aui = exists_atom | exists_concept\n",
    "cursor.execute(\"select * from umls.MRREL;\")\n",
    "mrrel= cursor.fetchall() \n",
    "\n",
    "out= open('MRREL.processed.csv', 'w', encoding= 'utf-8')\n",
    "writer= csv.writer(out)\n",
    "cols= [':START_ID', ':END_ID',':TYPE','RELA']\n",
    "writer.writerow(cols)\n",
    "count= 0\n",
    "with open('MRREL.RRF', mode= 'r', encoding= 'utf-8') as f: \n",
    "    for line in mrrel:\n",
    "        start_node= line[4]\n",
    "        end_node= line[0]\n",
    "        if line[6]== 'AUI': # style 2\n",
    "            start_node= line[5]\n",
    "        if line[2]== 'AUI': # syle 1\n",
    "            end_node= line[1]\n",
    "        if start_node in cui_aui and end_node in cui_aui: \n",
    "            writer.writerow([start_node, end_node, line[3], line[7]])\n",
    "        count += 1\n",
    "out.close()\n",
    "print(f\"{count} relationships\")"
   ]
  },
  {
   "cell_type": "code",
   "execution_count": null,
   "id": "e3e127ad-259a-4ff7-8c0a-e2ed93987e9d",
   "metadata": {},
   "outputs": [],
   "source": []
  }
 ],
 "metadata": {
  "kernelspec": {
   "display_name": "Python 3 (ipykernel)",
   "language": "python",
   "name": "python3"
  },
  "language_info": {
   "codemirror_mode": {
    "name": "ipython",
    "version": 3
   },
   "file_extension": ".py",
   "mimetype": "text/x-python",
   "name": "python",
   "nbconvert_exporter": "python",
   "pygments_lexer": "ipython3",
   "version": "3.8.10"
  }
 },
 "nbformat": 4,
 "nbformat_minor": 5
}
